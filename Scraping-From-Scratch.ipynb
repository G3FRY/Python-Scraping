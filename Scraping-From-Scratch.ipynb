{
 "cells": [
  {
   "cell_type": "code",
   "execution_count": 1,
   "metadata": {},
   "outputs": [],
   "source": [
    "from bs4 import BeautifulSoup\n",
    "import requests"
   ]
  },
  {
   "cell_type": "code",
   "execution_count": 2,
   "metadata": {},
   "outputs": [],
   "source": [
    "# defining the url and getting the response\n",
    "url = 'https://boston.craigslist.org/search/sss?query=sof'\n",
    "\n",
    "try:\n",
    "    response = requests.get(url)\n",
    "except Exception as e:\n",
    "    print(e)"
   ]
  },
  {
   "cell_type": "code",
   "execution_count": 3,
   "metadata": {},
   "outputs": [],
   "source": [
    "# save the content of the response if status code is 200\n",
    "if response.status_code == 200:\n",
    "    data = response.text\n",
    "else:\n",
    "    print(response.status_code)"
   ]
  },
  {
   "cell_type": "code",
   "execution_count": null,
   "metadata": {},
   "outputs": [],
   "source": [
    "# creating a Soup object and find all 'a' tags\n",
    "\n",
    "soup = BeautifulSoup(data, 'html.parser')\n",
    "tags = soup.find_all('a')\n",
    "for tag in tags:\n",
    "    print(tag.get('href'))"
   ]
  },
  {
   "cell_type": "code",
   "execution_count": 10,
   "metadata": {},
   "outputs": [
    {
     "name": "stdout",
     "output_type": "stream",
     "text": [
      "$16,495\n",
      "$16,495\n",
      "$16,495\n",
      "$16,495\n",
      "$60\n",
      "$60\n",
      "$16,495\n",
      "$16,495\n",
      "$29\n",
      "$29\n",
      "$29\n",
      "$29\n",
      "$375\n",
      "$375\n",
      "$16,495\n",
      "$16,495\n",
      "$16,495\n",
      "$16,495\n"
     ]
    }
   ],
   "source": [
    "results = soup.find_all('span', {'class': 'result-price'})\n",
    "for result in results:\n",
    "    print(result.text)"
   ]
  },
  {
   "cell_type": "code",
   "execution_count": null,
   "metadata": {},
   "outputs": [],
   "source": []
  }
 ],
 "metadata": {
  "kernelspec": {
   "display_name": "Python 3.9.2 64-bit",
   "language": "python",
   "name": "python3"
  },
  "language_info": {
   "codemirror_mode": {
    "name": "ipython",
    "version": 3
   },
   "file_extension": ".py",
   "mimetype": "text/x-python",
   "name": "python",
   "nbconvert_exporter": "python",
   "pygments_lexer": "ipython3",
   "version": "3.9.2"
  },
  "orig_nbformat": 4,
  "vscode": {
   "interpreter": {
    "hash": "b3c4db929531b659fdf648c720fbbaaf9e55e1b9805d10aedc2b762f89386134"
   }
  }
 },
 "nbformat": 4,
 "nbformat_minor": 2
}
